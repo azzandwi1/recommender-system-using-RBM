{
  "cells": [
    {
      "cell_type": "code",
      "execution_count": 44,
      "metadata": {
        "id": "IetBBJxdkmUz"
      },
      "outputs": [],
      "source": [
        "# Mengimpor library yang diperlukan\n",
        "import numpy as np\n",
        "import pandas as pd\n",
        "import torch\n",
        "import torch.utils.data\n",
        "from torch import Tensor as tt"
      ]
    },
    {
      "cell_type": "code",
      "execution_count": 45,
      "metadata": {
        "id": "aDxYP5gNm6gA"
      },
      "outputs": [
        {
          "data": {
            "text/html": [
              "<div>\n",
              "<style scoped>\n",
              "    .dataframe tbody tr th:only-of-type {\n",
              "        vertical-align: middle;\n",
              "    }\n",
              "\n",
              "    .dataframe tbody tr th {\n",
              "        vertical-align: top;\n",
              "    }\n",
              "\n",
              "    .dataframe thead th {\n",
              "        text-align: right;\n",
              "    }\n",
              "</style>\n",
              "<table border=\"1\" class=\"dataframe\">\n",
              "  <thead>\n",
              "    <tr style=\"text-align: right;\">\n",
              "      <th></th>\n",
              "      <th>0</th>\n",
              "      <th>1</th>\n",
              "      <th>2</th>\n",
              "      <th>3</th>\n",
              "    </tr>\n",
              "  </thead>\n",
              "  <tbody>\n",
              "    <tr>\n",
              "      <th>0</th>\n",
              "      <td>1</td>\n",
              "      <td>1</td>\n",
              "      <td>5</td>\n",
              "      <td>874965758</td>\n",
              "    </tr>\n",
              "    <tr>\n",
              "      <th>1</th>\n",
              "      <td>1</td>\n",
              "      <td>2</td>\n",
              "      <td>3</td>\n",
              "      <td>876893171</td>\n",
              "    </tr>\n",
              "    <tr>\n",
              "      <th>2</th>\n",
              "      <td>1</td>\n",
              "      <td>3</td>\n",
              "      <td>4</td>\n",
              "      <td>878542960</td>\n",
              "    </tr>\n",
              "    <tr>\n",
              "      <th>3</th>\n",
              "      <td>1</td>\n",
              "      <td>4</td>\n",
              "      <td>3</td>\n",
              "      <td>876893119</td>\n",
              "    </tr>\n",
              "    <tr>\n",
              "      <th>4</th>\n",
              "      <td>1</td>\n",
              "      <td>5</td>\n",
              "      <td>3</td>\n",
              "      <td>889751712</td>\n",
              "    </tr>\n",
              "  </tbody>\n",
              "</table>\n",
              "</div>"
            ],
            "text/plain": [
              "   0  1  2          3\n",
              "0  1  1  5  874965758\n",
              "1  1  2  3  876893171\n",
              "2  1  3  4  878542960\n",
              "3  1  4  3  876893119\n",
              "4  1  5  3  889751712"
            ]
          },
          "execution_count": 45,
          "metadata": {},
          "output_type": "execute_result"
        }
      ],
      "source": [
        "# Menyiapkan training set dan test set\n",
        "training_set = pd.read_csv(\"https://raw.githubusercontent.com/azzandwi1/recommender-system-using-RBM/main/ml-100k/u1.base\", sep='\\t', header=None)\n",
        "training_set.head()"
      ]
    },
    {
      "cell_type": "code",
      "execution_count": 46,
      "metadata": {},
      "outputs": [
        {
          "data": {
            "text/html": [
              "<div>\n",
              "<style scoped>\n",
              "    .dataframe tbody tr th:only-of-type {\n",
              "        vertical-align: middle;\n",
              "    }\n",
              "\n",
              "    .dataframe tbody tr th {\n",
              "        vertical-align: top;\n",
              "    }\n",
              "\n",
              "    .dataframe thead th {\n",
              "        text-align: right;\n",
              "    }\n",
              "</style>\n",
              "<table border=\"1\" class=\"dataframe\">\n",
              "  <thead>\n",
              "    <tr style=\"text-align: right;\">\n",
              "      <th></th>\n",
              "      <th>0</th>\n",
              "      <th>1</th>\n",
              "      <th>2</th>\n",
              "      <th>3</th>\n",
              "    </tr>\n",
              "  </thead>\n",
              "  <tbody>\n",
              "    <tr>\n",
              "      <th>0</th>\n",
              "      <td>1</td>\n",
              "      <td>6</td>\n",
              "      <td>5</td>\n",
              "      <td>887431973</td>\n",
              "    </tr>\n",
              "    <tr>\n",
              "      <th>1</th>\n",
              "      <td>1</td>\n",
              "      <td>10</td>\n",
              "      <td>3</td>\n",
              "      <td>875693118</td>\n",
              "    </tr>\n",
              "    <tr>\n",
              "      <th>2</th>\n",
              "      <td>1</td>\n",
              "      <td>12</td>\n",
              "      <td>5</td>\n",
              "      <td>878542960</td>\n",
              "    </tr>\n",
              "    <tr>\n",
              "      <th>3</th>\n",
              "      <td>1</td>\n",
              "      <td>14</td>\n",
              "      <td>5</td>\n",
              "      <td>874965706</td>\n",
              "    </tr>\n",
              "    <tr>\n",
              "      <th>4</th>\n",
              "      <td>1</td>\n",
              "      <td>17</td>\n",
              "      <td>3</td>\n",
              "      <td>875073198</td>\n",
              "    </tr>\n",
              "  </tbody>\n",
              "</table>\n",
              "</div>"
            ],
            "text/plain": [
              "   0   1  2          3\n",
              "0  1   6  5  887431973\n",
              "1  1  10  3  875693118\n",
              "2  1  12  5  878542960\n",
              "3  1  14  5  874965706\n",
              "4  1  17  3  875073198"
            ]
          },
          "execution_count": 46,
          "metadata": {},
          "output_type": "execute_result"
        }
      ],
      "source": [
        "test_set = pd.read_csv(\"https://raw.githubusercontent.com/azzandwi1/recommender-system-using-RBM/main/ml-100k/u1.test\", sep='\\t', header=None)\n",
        "test_set.head()"
      ]
    },
    {
      "cell_type": "code",
      "execution_count": 47,
      "metadata": {},
      "outputs": [],
      "source": [
        "training_set = np.array(training_set, dtype='int')\n",
        "test_set = np.array(test_set, dtype='int')"
      ]
    },
    {
      "cell_type": "code",
      "execution_count": 48,
      "metadata": {
        "id": "GdEs0mR8m7v9"
      },
      "outputs": [],
      "source": [
        "# Menentukan jumlah maksimum pengguna (users) dan film untuk dibuat matriks\n",
        "nb_users = int(max(max(training_set[:,0]), max(test_set[:,0])))\n",
        "nb_movies = int(max(max(training_set[:,1]), max(test_set[:,1])))"
      ]
    },
    {
      "cell_type": "code",
      "execution_count": 49,
      "metadata": {
        "id": "tTgPKv1Nm-3Q"
      },
      "outputs": [],
      "source": [
        "# Merubah data menjadi sebuah array (matriks) di mana baris adalah users dan kolom adalah film\n",
        "def konversi_matriks(data):\n",
        "    data_baru = []\n",
        "    for id_users in range(1, nb_users+1):\n",
        "        id_movies = data[:,1][data[:,0] == id_users]\n",
        "        id_ratings = data[:,2][data[:,0] == id_users]\n",
        "        ratings = np.zeros(nb_movies)\n",
        "        ratings[id_movies - 1] = id_ratings\n",
        "        data_baru.append(list(ratings))\n",
        "    return data_baru"
      ]
    },
    {
      "cell_type": "code",
      "execution_count": 50,
      "metadata": {
        "id": "pd_ILBTJnA7e"
      },
      "outputs": [],
      "source": [
        "# Mengaplikasikan fungsi konversi_matriks ke training set dan test set\n",
        "training_set = konversi_matriks(training_set)\n",
        "test_set = konversi_matriks(test_set)"
      ]
    },
    {
      "cell_type": "code",
      "execution_count": 51,
      "metadata": {
        "id": "XqxOMW0QnA-L"
      },
      "outputs": [],
      "source": [
        "# Mengubah training_set dan test_set ke dalam Torch Tensor\n",
        "training_set = torch.FloatTensor(training_set)\n",
        "test_set = torch.FloatTensor(test_set)"
      ]
    },
    {
      "cell_type": "code",
      "execution_count": 52,
      "metadata": {
        "id": "W04EhSyOnDIH"
      },
      "outputs": [],
      "source": [
        "# Merubah rating menjadi binary = 1 (suka) dan 0 (tidak suka)\n",
        "training_set[training_set == 0] = -1\n",
        "training_set[training_set == 1] = 0\n",
        "training_set[training_set == 2] = 0\n",
        "training_set[training_set >= 3] = 1\n",
        "test_set[test_set == 0] = -1\n",
        "test_set[test_set == 1] = 0\n",
        "test_set[test_set == 2] = 0\n",
        "test_set[test_set >= 3] = 1"
      ]
    },
    {
      "cell_type": "code",
      "execution_count": 53,
      "metadata": {
        "id": "Hpoqv-AinDPJ"
      },
      "outputs": [],
      "source": [
        "# Membuat rancangan arsitektur neural networks RBM\n",
        "class RBM():\n",
        "    def __init__(self, nv, nh):\n",
        "        self.W = torch.randn(nh, nv)\n",
        "        self.a = torch.randn(1, nh)\n",
        "        self.b = torch.randn(1, nv)\n",
        "    def sample_h(self, x):\n",
        "        wx = torch.mm(x, self.W.t())\n",
        "        activation = wx + self.a.expand_as(wx)\n",
        "        p_h_untuk_v = torch.sigmoid(activation)\n",
        "        return p_h_untuk_v, torch.bernoulli(p_h_untuk_v)\n",
        "    def sample_v(self, y):\n",
        "        wy = torch.mm(y, self.W)\n",
        "        activation = wy + self.b.expand_as(wy)\n",
        "        p_v_untuk_h = torch.sigmoid(activation)\n",
        "        return p_v_untuk_h, torch.bernoulli(p_v_untuk_h)\n",
        "    def train(self, v0, vk, ph0, phk):\n",
        "        self.W += (torch.mm(v0.t(),ph0) - torch.mm(vk.t(),phk)).t()\n",
        "        self.b += torch.sum((v0 - vk), 0)\n",
        "        self.a += torch.sum((ph0 - phk), 0)\n",
        "    def predict(self, x):\n",
        "        _,h = self.sample_h(x)\n",
        "        _,v = self.sample_v(h)\n",
        "        return v"
      ]
    },
    {
      "cell_type": "code",
      "execution_count": 54,
      "metadata": {
        "id": "nCSikYU6nDV9"
      },
      "outputs": [],
      "source": [
        "# Menentukan jumlah nv, nh dan batch_size\n",
        "nv = 1682\n",
        "nh = 100\n",
        "batch_size = 100\n",
        "rbm = RBM(nv, nh)\n",
        "nb_epoch = 10"
      ]
    },
    {
      "cell_type": "code",
      "execution_count": 55,
      "metadata": {
        "colab": {
          "base_uri": "https://localhost:8080/"
        },
        "id": "DLVTvdbYnHNH",
        "outputId": "60a8e008-ff01-4c1c-94e0-d0647266f256"
      },
      "outputs": [
        {
          "name": "stdout",
          "output_type": "stream",
          "text": [
            "epoch: 1 loss: tensor(0.3405)\n",
            "epoch: 2 loss: tensor(0.2420)\n",
            "epoch: 3 loss: tensor(0.2448)\n",
            "epoch: 4 loss: tensor(0.2475)\n",
            "epoch: 5 loss: tensor(0.2439)\n",
            "epoch: 6 loss: tensor(0.2472)\n",
            "epoch: 7 loss: tensor(0.2461)\n",
            "epoch: 8 loss: tensor(0.2459)\n",
            "epoch: 9 loss: tensor(0.2464)\n",
            "epoch: 10 loss: tensor(0.2472)\n"
          ]
        }
      ],
      "source": [
        "# Proses training RBM\n",
        "for epoch in range(1, nb_epoch + 1):\n",
        "    train_loss = 0\n",
        "    s = 0.\n",
        "    for id_user in range(0, nb_users + 1, batch_size):\n",
        "        vk = training_set[id_user:id_user+batch_size]\n",
        "        v0 = training_set[id_user:id_user+batch_size]\n",
        "        ph0,_ = rbm.sample_h(v0)\n",
        "        for k in range(10):\n",
        "            _,hk = rbm.sample_h(vk)\n",
        "            _,vk = rbm.sample_v(hk)\n",
        "            vk[v0<0] = v0[v0<0]\n",
        "        phk,_ = rbm.sample_h(vk)\n",
        "        rbm.train(v0, vk, ph0, phk)\n",
        "        train_loss += torch.mean(torch.abs(v0[v0>=0] - vk[v0>=0]))\n",
        "        s += 1.\n",
        "    print('epoch: '+str(epoch)+' loss: '+str(train_loss/s))"
      ]
    },
    {
      "cell_type": "code",
      "execution_count": 56,
      "metadata": {
        "colab": {
          "base_uri": "https://localhost:8080/"
        },
        "id": "nM5geNMMnJAb",
        "outputId": "fdf22efd-e0b1-4628-e945-dc1e06fd3adb"
      },
      "outputs": [
        {
          "name": "stdout",
          "output_type": "stream",
          "text": [
            "test loss: tensor(0.2070)\n"
          ]
        }
      ],
      "source": [
        "# Proses testing RBM\n",
        "test_loss = 0\n",
        "s = 0.\n",
        "for id_user in range(nb_users + 1):\n",
        "    v = training_set[id_user:id_user+1]\n",
        "    vt = test_set[id_user:id_user+1]\n",
        "    if len(vt[vt>=0]) > 0:\n",
        "        _,h = rbm.sample_h(v)\n",
        "        _,v = rbm.sample_v(h)\n",
        "        test_loss += torch.mean(torch.abs(vt[vt>=0] - v[vt>=0]))\n",
        "        s += 1.\n",
        "print('test loss: '+str(test_loss/s))"
      ]
    },
    {
      "cell_type": "code",
      "execution_count": 57,
      "metadata": {
        "colab": {
          "base_uri": "https://localhost:8080/"
        },
        "id": "vHccGtatnMKP",
        "outputId": "f92a41b8-4c73-4457-f326-c85d221c3011"
      },
      "outputs": [
        {
          "name": "stdout",
          "output_type": "stream",
          "text": [
            "Prediksi untuk training set:\n",
            "[[-1. -1. -1. ... -1. -1. -1.]\n",
            " [ 1.  1.  1. ...  0.  1.  1.]]\n",
            "Prediksi untuk test set:\n",
            "[[-1. -1. -1. ... -1. -1. -1.]\n",
            " [ 1.  1.  1. ...  0.  0.  1.]]\n"
          ]
        }
      ],
      "source": [
        "# Mengambil contoh id_user untuk diprediksi perilakunya\n",
        "user_id = 0\n",
        "while (user_id <= 0 or user_id >= 944):\n",
        "    user_id = int(input('masukkan user_id yang diinginkan (antara 1-943) = '))\n",
        "    if (user_id <= 0 or user_id >= 944):\n",
        "        print('Masukkan angka antara 1-943')\n",
        "\n",
        "user_input_training = tt(training_set[user_id-1]).unsqueeze(0)\n",
        "user_input_test = tt(test_set[user_id-1]).unsqueeze(0)\n",
        "\n",
        "# %%\n",
        "# Membuat prediksi untuk training set\n",
        "prediksi_training = rbm.predict(user_input_training)\n",
        "prediksi_training = prediksi_training.data.numpy()\n",
        "prediksi_film_training = np.vstack([user_input_training, prediksi_training])\n",
        "\n",
        "# Menampilkan hasil prediksi untuk training set\n",
        "print(\"Prediksi untuk training set:\")\n",
        "print(prediksi_film_training)\n",
        "\n",
        "# %%\n",
        "# Membuat prediksi untuk test set\n",
        "prediksi_test = rbm.predict(user_input_test)\n",
        "prediksi_test = prediksi_test.data.numpy()\n",
        "prediksi_film_test = np.vstack([user_input_test, prediksi_test])\n",
        "\n",
        "# Menampilkan hasil prediksi untuk test set\n",
        "print(\"Prediksi untuk test set:\")\n",
        "print(prediksi_film_test)"
      ]
    }
  ],
  "metadata": {
    "colab": {
      "provenance": []
    },
    "kernelspec": {
      "display_name": "Python 3",
      "name": "python3"
    },
    "language_info": {
      "codemirror_mode": {
        "name": "ipython",
        "version": 3
      },
      "file_extension": ".py",
      "mimetype": "text/x-python",
      "name": "python",
      "nbconvert_exporter": "python",
      "pygments_lexer": "ipython3",
      "version": "3.12.2"
    }
  },
  "nbformat": 4,
  "nbformat_minor": 0
}
